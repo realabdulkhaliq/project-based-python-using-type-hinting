{
 "cells": [
  {
   "cell_type": "code",
   "execution_count": 5,
   "metadata": {},
   "outputs": [
    {
     "name": "stdout",
     "output_type": "stream",
     "text": [
      "You are loged In\n"
     ]
    }
   ],
   "source": [
    "data_base: list[tuple[str, int]] = [(\"ahmad\", 123), (\"Kashif\", 234), (\"Abdul\", 345), (\"Muhammad\", 456)]\n",
    "\n",
    "input_user: str = input(\"Enter username: \")\n",
    "input_password: int = int(input(\"Enter password: \"))\n",
    "\n",
    "for item in data_base:\n",
    "    username , password = item\n",
    "    if username.lower() == input_user.lower() and password == input_password:\n",
    "        print(\"Valid User.\\nYou are loged In\")\n",
    "        break\n",
    "else:\n",
    "    print(\"Not Found or Invalid User\")\n",
    "        "
   ]
  }
 ],
 "metadata": {
  "kernelspec": {
   "display_name": "py12",
   "language": "python",
   "name": "python3"
  },
  "language_info": {
   "codemirror_mode": {
    "name": "ipython",
    "version": 3
   },
   "file_extension": ".py",
   "mimetype": "text/x-python",
   "name": "python",
   "nbconvert_exporter": "python",
   "pygments_lexer": "ipython3",
   "version": "3.12.0"
  }
 },
 "nbformat": 4,
 "nbformat_minor": 2
}
