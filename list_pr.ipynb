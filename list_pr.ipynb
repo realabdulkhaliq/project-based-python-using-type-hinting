{
 "cells": [
  {
   "cell_type": "code",
   "execution_count": null,
   "metadata": {},
   "outputs": [],
   "source": [
    "data_base: list[tuple[str, int]] = [(\"ahmad\", 123), (\"Kashif\", 234), (\"Abdul\", 345), (\"Muhammad\", 456)]\n",
    "\n",
    "input_user: str = input(\"Enter username: \")\n",
    "input_password: int = int(input(\"Enter password: \"))\n",
    "\n",
    "for item in data_base:\n",
    "    if input_user == item[0]:\n",
    "        print(f\"Your age is {item[1]}\")\n",
    "        break"
   ]
  }
 ],
 "metadata": {
  "language_info": {
   "name": "python"
  }
 },
 "nbformat": 4,
 "nbformat_minor": 2
}
