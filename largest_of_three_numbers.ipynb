{
 "cells": [
  {
   "cell_type": "code",
   "execution_count": 1,
   "metadata": {},
   "outputs": [
    {
     "name": "stdout",
     "output_type": "stream",
     "text": [
      "The largest number is: 6\n"
     ]
    }
   ],
   "source": [
    "number1: int = int(input(\"Enter the first number: \"))\n",
    "number2: int = int(input(\"Enter the second number: \"))\n",
    "number3: int = int(input(\"Enter the third number: \"))\n",
    "\n",
    "largest_number = number1\n",
    "\n",
    "if number2 > largest_number:\n",
    "    largest_number = number2\n",
    "\n",
    "\n",
    "if number3 > largest_number:\n",
    "    largest_number = number3\n",
    "\n",
    "print(\"The largest number is:\", largest_number)"
   ]
  },
  {
   "cell_type": "code",
   "execution_count": 2,
   "metadata": {},
   "outputs": [
    {
     "name": "stdout",
     "output_type": "stream",
     "text": [
      "The largest number is: 7\n"
     ]
    }
   ],
   "source": [
    "number1: int = int(input(\"Enter the first number: \"))\n",
    "number2: int = int(input(\"Enter the second number: \"))\n",
    "number3: int = int(input(\"Enter the third number: \"))\n",
    "\n",
    "largest_number: int = max(number1, number2, number3)\n",
    "\n",
    "print(\"The largest number is:\", largest_number)"
   ]
  },
  {
   "cell_type": "code",
   "execution_count": 14,
   "metadata": {},
   "outputs": [
    {
     "name": "stdout",
     "output_type": "stream",
     "text": [
      "[1, 2, 3, 5, 7]\n",
      "Maximum number is :  7\n",
      "Minimum number is :  1\n"
     ]
    }
   ],
   "source": [
    "number_list = []\n",
    "flag = True\n",
    "while flag:\n",
    "    number = int(input(\"Enter a number: or 0 to stop: \"))\n",
    "    \n",
    "    if number == 0:\n",
    "        flag = False\n",
    "        break\n",
    "\n",
    "    number_list.append(number)\n",
    "print(number_list)\n",
    "print(\"Maximum number is : \", max(number_list))\n",
    "print(\"Minimum number is : \", min(number_list))\n"
   ]
  }
 ],
 "metadata": {
  "kernelspec": {
   "display_name": "py12",
   "language": "python",
   "name": "python3"
  },
  "language_info": {
   "codemirror_mode": {
    "name": "ipython",
    "version": 3
   },
   "file_extension": ".py",
   "mimetype": "text/x-python",
   "name": "python",
   "nbconvert_exporter": "python",
   "pygments_lexer": "ipython3",
   "version": "3.12.0"
  }
 },
 "nbformat": 4,
 "nbformat_minor": 2
}
