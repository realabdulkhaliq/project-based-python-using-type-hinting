{
 "cells": [
  {
   "cell_type": "code",
   "execution_count": 6,
   "metadata": {},
   "outputs": [
    {
     "name": "stdout",
     "output_type": "stream",
     "text": [
      "Accourding to your percentage 23.0\tYour grade is: F\n"
     ]
    }
   ],
   "source": [
    "from typing import Union\n",
    "\n",
    "percentage: Union[int, float] = float(input(\"Enter your percentage: \"))\n",
    "grade: Union[str, None] = None\n",
    "\n",
    "if percentage >= 90:\n",
    "    grade = \"A+\"\n",
    "elif percentage >= 80:\n",
    "    grade = \"A+\"\n",
    "elif percentage >= 70:\n",
    "    grade = \"B\"\n",
    "elif percentage >= 60:\n",
    "    grade = \"C\"\n",
    "elif percentage >= 50:\n",
    "    grade = \"D\"\n",
    "elif percentage >= 40:\n",
    "    grade = \"E\"\n",
    "else:\n",
    "    grade = \"F\"\n",
    "\n",
    "print(f\"Accourding to your percentage {percentage}\\tYour grade is: {grade}\")"
   ]
  },
  {
   "cell_type": "code",
   "execution_count": 9,
   "metadata": {},
   "outputs": [
    {
     "name": "stdout",
     "output_type": "stream",
     "text": [
      "\n",
      "      Dear Aqib\n",
      "      Your percentage is 6600.0\n",
      "      Your grade is: A+\n"
     ]
    }
   ],
   "source": [
    "from typing import Union\n",
    "\n",
    "name: str = input(\"Enter your Name: \")\n",
    "eng_marks: float = float(input(\"Enter Your Marks in English\"))\n",
    "math_marks: float = float(input(\"Enter Your Marks in Math\"))\n",
    "sci_marks: float = float(input(\"Enter Your Marks in Science\"))\n",
    "percentage: float = (eng_marks + math_marks + sci_marks) / 3\n",
    "grade: Union[str, None] = None\n",
    "\n",
    "if percentage >= 90:\n",
    "    grade = \"A+\"\n",
    "elif percentage >= 80:\n",
    "    grade = \"A+\"\n",
    "elif percentage >= 70:\n",
    "    grade = \"B\"\n",
    "elif percentage >= 60:\n",
    "    grade = \"C\"\n",
    "elif percentage >= 50:\n",
    "    grade = \"D\"\n",
    "elif percentage >= 40:\n",
    "    grade = \"E\"\n",
    "else:\n",
    "    grade = \"F\"\n",
    "\n",
    "print(f\"\"\"\n",
    "      Dear {name}\n",
    "      Your percentage is {percentage}\n",
    "      Your grade is: {grade}\"\"\")"
   ]
  }
 ],
 "metadata": {
  "kernelspec": {
   "display_name": "py12",
   "language": "python",
   "name": "python3"
  },
  "language_info": {
   "codemirror_mode": {
    "name": "ipython",
    "version": 3
   },
   "file_extension": ".py",
   "mimetype": "text/x-python",
   "name": "python",
   "nbconvert_exporter": "python",
   "pygments_lexer": "ipython3",
   "version": "3.12.0"
  }
 },
 "nbformat": 4,
 "nbformat_minor": 2
}
