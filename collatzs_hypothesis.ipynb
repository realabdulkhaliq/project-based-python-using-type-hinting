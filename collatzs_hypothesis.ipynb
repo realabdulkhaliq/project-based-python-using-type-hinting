{
 "cells": [
  {
   "cell_type": "markdown",
   "metadata": {},
   "source": [
    "In 1937, a German mathematician named Lothar Collatz formulated an intriguing hypothesis (it still remains unproven) which can be described in the following way:\n",
    "\n",
    "take any non-negative and non-zero integer number and name it c0;\n",
    "if it's even, evaluate a new c0 as c0 ÷ 2;\n",
    "otherwise, if it's odd, evaluate a new c0 as 3 × c0 + 1;\n",
    "if c0 ≠ 1, go back to point 2.\n",
    "The hypothesis says that regardless of the initial value of c0, it will always go to 1."
   ]
  },
  {
   "cell_type": "code",
   "execution_count": 13,
   "metadata": {},
   "outputs": [
    {
     "name": "stdout",
     "output_type": "stream",
     "text": [
      "[3070, 1535, 4606, 2303, 6910, 3455, 10366, 5183, 15550, 7775, 23326, 11663, 34990, 17495, 52486, 26243, 78730, 39365, 118096, 59048, 29524, 14762, 7381, 22144, 11072, 5536, 2768, 1384, 692, 346, 173, 520, 260, 130, 65, 196, 98, 49, 148, 74, 37, 112, 56, 28, 14, 7, 22, 11, 34, 17, 52, 26, 13, 40, 20, 10, 5, 16, 8, 4, 2, 1]\n",
      "Steps =  62\n"
     ]
    }
   ],
   "source": [
    "c0: int = int(input(\"Enter a non negative integer: \"))\n",
    "newlist: list[int] = []\n",
    "while c0 != 1:\n",
    "    if c0 % 2 == 0:\n",
    "        c0: int = c0 // 2\n",
    "        # print(c0)\n",
    "        newlist.append(c0)\n",
    "    else:\n",
    "        c0: int = 3 * c0 + 1\n",
    "        # print(c0)\n",
    "        newlist.append(c0)\n",
    "\n",
    "print(newlist)\n",
    "print(\"Steps = \", len(newlist))"
   ]
  }
 ],
 "metadata": {
  "kernelspec": {
   "display_name": "py12",
   "language": "python",
   "name": "python3"
  },
  "language_info": {
   "codemirror_mode": {
    "name": "ipython",
    "version": 3
   },
   "file_extension": ".py",
   "mimetype": "text/x-python",
   "name": "python",
   "nbconvert_exporter": "python",
   "pygments_lexer": "ipython3",
   "version": "3.12.0"
  }
 },
 "nbformat": 4,
 "nbformat_minor": 2
}
