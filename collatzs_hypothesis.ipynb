{
 "cells": [
  {
   "cell_type": "markdown",
   "metadata": {},
   "source": [
    "In 1937, a German mathematician named Lothar Collatz formulated an intriguing hypothesis (it still remains unproven) which can be described in the following way:\n",
    "\n",
    "take any non-negative and non-zero integer number and name it c0;\n",
    "if it's even, evaluate a new c0 as c0 ÷ 2;\n",
    "otherwise, if it's odd, evaluate a new c0 as 3 × c0 + 1;\n",
    "if c0 ≠ 1, go back to point 2.\n",
    "The hypothesis says that regardless of the initial value of c0, it will always go to 1."
   ]
  },
  {
   "cell_type": "code",
   "execution_count": 19,
   "metadata": {},
   "outputs": [
    {
     "name": "stdout",
     "output_type": "stream",
     "text": [
      "[46, 23, 70, 35, 106, 53, 160, 80, 40, 20, 10, 5, 16, 8, 4, 2, 1]\n",
      "Steps =  17\n"
     ]
    }
   ],
   "source": [
    "c0: int = int(input(\"Enter a non negative integer: \"))\n",
    "newlist: list[int] = []\n",
    "while c0 != 1:\n",
    "    if c0 % 2 == 0:\n",
    "        c0: int = c0 // 2\n",
    "        # print(c0)\n",
    "        newlist.append(c0)\n",
    "    else:\n",
    "        c0: int = 3 * c0 + 1\n",
    "        # print(c0)\n",
    "        newlist.append(c0)\n",
    "\n",
    "\n",
    "print(newlist)\n",
    "print(\"Steps = \", len(newlist))"
   ]
  }
 ],
 "metadata": {
  "kernelspec": {
   "display_name": "py12",
   "language": "python",
   "name": "python3"
  },
  "language_info": {
   "codemirror_mode": {
    "name": "ipython",
    "version": 3
   },
   "file_extension": ".py",
   "mimetype": "text/x-python",
   "name": "python",
   "nbconvert_exporter": "python",
   "pygments_lexer": "ipython3",
   "version": "3.12.0"
  }
 },
 "nbformat": 4,
 "nbformat_minor": 2
}
