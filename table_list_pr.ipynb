{
 "cells": [
  {
   "cell_type": "code",
   "execution_count": 1,
   "metadata": {},
   "outputs": [
    {
     "data": {
      "text/plain": [
       "['5 X 1 = 5',\n",
       " '5 X 2 = 10',\n",
       " '5 X 3 = 15',\n",
       " '5 X 4 = 20',\n",
       " '5 X 5 = 25',\n",
       " '5 X 6 = 30',\n",
       " '5 X 7 = 35',\n",
       " '5 X 8 = 40',\n",
       " '5 X 9 = 45',\n",
       " '5 X 10 = 50']"
      ]
     },
     "execution_count": 1,
     "metadata": {},
     "output_type": "execute_result"
    }
   ],
   "source": [
    "input_number: int = int(input(\"Enter a number: \"))\n",
    "[f\"{input_number} X {n} = {n*input_number}\" for n in range(1, 11)]"
   ]
  },
  {
   "cell_type": "code",
   "execution_count": 5,
   "metadata": {},
   "outputs": [
    {
     "name": "stdout",
     "output_type": "stream",
     "text": [
      "9 X 1 = 9\n",
      "9 X 2 = 18\n",
      "9 X 3 = 27\n",
      "9 X 4 = 36\n",
      "9 X 5 = 45\n",
      "9 X 6 = 54\n",
      "9 X 7 = 63\n",
      "9 X 8 = 72\n",
      "9 X 9 = 81\n",
      "9 X 10 = 90\n",
      "9 X 11 = 99\n",
      "9 X 12 = 108\n",
      "9 X 13 = 117\n",
      "9 X 14 = 126\n",
      "9 X 15 = 135\n",
      "9 X 16 = 144\n",
      "9 X 17 = 153\n",
      "9 X 18 = 162\n",
      "9 X 19 = 171\n",
      "9 X 20 = 180\n",
      "9 X 21 = 189\n",
      "9 X 22 = 198\n"
     ]
    }
   ],
   "source": [
    "input_number: int = int(input(\"Enter a number: \"))\n",
    "input_range: int = int(input(\"Upto how many numbers table is generated? (greater than 0 max 100): \"))\n",
    "if input_range > 0 and input_range <= 100:\n",
    "    for n in range(1, input_range+1):\n",
    "        print(f\"{input_number} X {n} = {n*input_number}\" )"
   ]
  }
 ],
 "metadata": {
  "kernelspec": {
   "display_name": "py12",
   "language": "python",
   "name": "python3"
  },
  "language_info": {
   "codemirror_mode": {
    "name": "ipython",
    "version": 3
   },
   "file_extension": ".py",
   "mimetype": "text/x-python",
   "name": "python",
   "nbconvert_exporter": "python",
   "pygments_lexer": "ipython3",
   "version": "3.12.0"
  }
 },
 "nbformat": 4,
 "nbformat_minor": 2
}
